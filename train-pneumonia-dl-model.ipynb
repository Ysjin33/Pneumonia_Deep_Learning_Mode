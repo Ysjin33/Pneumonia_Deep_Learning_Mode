{
 "cells": [
  {
   "cell_type": "code",
   "execution_count": 1,
   "id": "1c67807d",
   "metadata": {
    "execution": {
     "iopub.execute_input": "2024-07-21T04:14:29.026558Z",
     "iopub.status.busy": "2024-07-21T04:14:29.026125Z",
     "iopub.status.idle": "2024-07-21T04:14:43.884578Z",
     "shell.execute_reply": "2024-07-21T04:14:43.883483Z"
    },
    "papermill": {
     "duration": 14.86828,
     "end_time": "2024-07-21T04:14:43.887080",
     "exception": false,
     "start_time": "2024-07-21T04:14:29.018800",
     "status": "completed"
    },
    "tags": []
   },
   "outputs": [
    {
     "name": "stderr",
     "output_type": "stream",
     "text": [
      "2024-07-21 04:14:31.059033: E external/local_xla/xla/stream_executor/cuda/cuda_dnn.cc:9261] Unable to register cuDNN factory: Attempting to register factory for plugin cuDNN when one has already been registered\n",
      "2024-07-21 04:14:31.059167: E external/local_xla/xla/stream_executor/cuda/cuda_fft.cc:607] Unable to register cuFFT factory: Attempting to register factory for plugin cuFFT when one has already been registered\n",
      "2024-07-21 04:14:31.206573: E external/local_xla/xla/stream_executor/cuda/cuda_blas.cc:1515] Unable to register cuBLAS factory: Attempting to register factory for plugin cuBLAS when one has already been registered\n"
     ]
    }
   ],
   "source": [
    "import tensorflow as tf\n",
    "from tensorflow.keras.models import Sequential\n",
    "from tensorflow.keras.layers import Input, Conv2D, MaxPool2D, Dropout, Flatten, Dense\n",
    "import matplotlib.pyplot as plt\n",
    "import pandas as pd\n",
    "import seaborn as sns\n",
    "import os\n",
    "os.environ['TF_CPP_MIN_LOG_LEVEL'] = '3'"
   ]
  },
  {
   "cell_type": "markdown",
   "id": "a33d8a2e",
   "metadata": {
    "papermill": {
     "duration": 0.005629,
     "end_time": "2024-07-21T04:14:43.898908",
     "exception": false,
     "start_time": "2024-07-21T04:14:43.893279",
     "status": "completed"
    },
    "tags": []
   },
   "source": [
    "# **Data Processing**"
   ]
  },
  {
   "cell_type": "markdown",
   "id": "0864179f",
   "metadata": {
    "papermill": {
     "duration": 0.004884,
     "end_time": "2024-07-21T04:14:43.908966",
     "exception": false,
     "start_time": "2024-07-21T04:14:43.904082",
     "status": "completed"
    },
    "tags": []
   },
   "source": [
    "# Training Image Preprocessing"
   ]
  },
  {
   "cell_type": "code",
   "execution_count": 2,
   "id": "6b305404",
   "metadata": {
    "_cell_guid": "b1076dfc-b9ad-4769-8c92-a6c4dae69d19",
    "_uuid": "8f2839f25d086af736a60e9eeb907d3b93b6e0e5",
    "execution": {
     "iopub.execute_input": "2024-07-21T04:14:43.921222Z",
     "iopub.status.busy": "2024-07-21T04:14:43.920595Z",
     "iopub.status.idle": "2024-07-21T04:14:51.973254Z",
     "shell.execute_reply": "2024-07-21T04:14:51.972201Z"
    },
    "papermill": {
     "duration": 8.061673,
     "end_time": "2024-07-21T04:14:51.975790",
     "exception": false,
     "start_time": "2024-07-21T04:14:43.914117",
     "status": "completed"
    },
    "tags": []
   },
   "outputs": [
    {
     "name": "stdout",
     "output_type": "stream",
     "text": [
      "Found 5216 files belonging to 2 classes.\n"
     ]
    }
   ],
   "source": [
    "training_set = tf.keras.utils.image_dataset_from_directory(\n",
    "    '/kaggle/input/chest-xray-pneumonia/chest_xray/train',\n",
    "    labels=\"inferred\",\n",
    "    label_mode=\"binary\",\n",
    "    class_names=None,\n",
    "    color_mode=\"grayscale\",\n",
    "    batch_size=32,\n",
    "    image_size=(128, 128),\n",
    "    shuffle=True,\n",
    "    seed=None,\n",
    "    validation_split=None,\n",
    "    subset=None,\n",
    "    interpolation=\"bilinear\",\n",
    "    follow_links=False,\n",
    "    crop_to_aspect_ratio=False\n",
    ")"
   ]
  },
  {
   "cell_type": "markdown",
   "id": "7fefb759",
   "metadata": {
    "papermill": {
     "duration": 0.005201,
     "end_time": "2024-07-21T04:14:51.986450",
     "exception": false,
     "start_time": "2024-07-21T04:14:51.981249",
     "status": "completed"
    },
    "tags": []
   },
   "source": [
    "# Validation Image Preprocessing"
   ]
  },
  {
   "cell_type": "code",
   "execution_count": 3,
   "id": "75e9c13f",
   "metadata": {
    "execution": {
     "iopub.execute_input": "2024-07-21T04:14:51.999342Z",
     "iopub.status.busy": "2024-07-21T04:14:51.998959Z",
     "iopub.status.idle": "2024-07-21T04:14:52.054079Z",
     "shell.execute_reply": "2024-07-21T04:14:52.053113Z"
    },
    "papermill": {
     "duration": 0.064765,
     "end_time": "2024-07-21T04:14:52.056555",
     "exception": false,
     "start_time": "2024-07-21T04:14:51.991790",
     "status": "completed"
    },
    "tags": []
   },
   "outputs": [
    {
     "name": "stdout",
     "output_type": "stream",
     "text": [
      "Found 16 files belonging to 2 classes.\n"
     ]
    }
   ],
   "source": [
    "validation_set = tf.keras.utils.image_dataset_from_directory(\n",
    "    '/kaggle/input/chest-xray-pneumonia/chest_xray/val',\n",
    "    labels=\"inferred\",\n",
    "    label_mode=\"binary\",\n",
    "    class_names=None,\n",
    "    color_mode=\"grayscale\",\n",
    "    batch_size=32,\n",
    "    image_size=(128, 128),\n",
    "    shuffle=True,\n",
    "    seed=None,\n",
    "    validation_split=None,\n",
    "    subset=None,\n",
    "    interpolation=\"bilinear\",\n",
    "    follow_links=False,\n",
    "    crop_to_aspect_ratio=False\n",
    ")"
   ]
  },
  {
   "cell_type": "markdown",
   "id": "6f68bcef",
   "metadata": {
    "papermill": {
     "duration": 0.005227,
     "end_time": "2024-07-21T04:14:52.067414",
     "exception": false,
     "start_time": "2024-07-21T04:14:52.062187",
     "status": "completed"
    },
    "tags": []
   },
   "source": [
    "# **Building Model**"
   ]
  },
  {
   "cell_type": "markdown",
   "id": "94b8f989",
   "metadata": {
    "papermill": {
     "duration": 0.005268,
     "end_time": "2024-07-21T04:14:52.078018",
     "exception": false,
     "start_time": "2024-07-21T04:14:52.072750",
     "status": "completed"
    },
    "tags": []
   },
   "source": [
    "# Building Convolution Layer"
   ]
  },
  {
   "cell_type": "code",
   "execution_count": 4,
   "id": "c9db1c2a",
   "metadata": {
    "execution": {
     "iopub.execute_input": "2024-07-21T04:14:52.090771Z",
     "iopub.status.busy": "2024-07-21T04:14:52.090363Z",
     "iopub.status.idle": "2024-07-21T04:14:52.459356Z",
     "shell.execute_reply": "2024-07-21T04:14:52.458444Z"
    },
    "papermill": {
     "duration": 0.378265,
     "end_time": "2024-07-21T04:14:52.461746",
     "exception": false,
     "start_time": "2024-07-21T04:14:52.083481",
     "status": "completed"
    },
    "tags": []
   },
   "outputs": [],
   "source": [
    "cnn = Sequential([\n",
    "    Input(shape=[128, 128, 1]),\n",
    "    Conv2D(filters=32, kernel_size=3, padding='same', activation='relu'),\n",
    "    Conv2D(filters=32, kernel_size=3, activation='relu'),\n",
    "    MaxPool2D(pool_size=2, strides=2),\n",
    "    Conv2D(filters=64, kernel_size=3, padding='same', activation='relu'),\n",
    "    MaxPool2D(pool_size=2, strides=2),\n",
    "    Conv2D(filters=128, kernel_size=3, padding='same', activation='relu'),\n",
    "    MaxPool2D(pool_size=2, strides=2),\n",
    "    Conv2D(filters=256, kernel_size=3, padding='same', activation='relu'),\n",
    "    MaxPool2D(pool_size=2, strides=2),\n",
    "    Conv2D(filters=512, kernel_size=3, padding='same', activation='relu'),\n",
    "    MaxPool2D(pool_size=2, strides=2),\n",
    "    Dropout(0.45),\n",
    "    Flatten(),\n",
    "    Dense(units=256, activation='relu'),\n",
    "    Dense(units=1, activation='sigmoid')\n",
    "])"
   ]
  },
  {
   "cell_type": "markdown",
   "id": "6070218b",
   "metadata": {
    "papermill": {
     "duration": 0.005603,
     "end_time": "2024-07-21T04:14:52.472943",
     "exception": false,
     "start_time": "2024-07-21T04:14:52.467340",
     "status": "completed"
    },
    "tags": []
   },
   "source": [
    "# Compiling and Training Phase"
   ]
  },
  {
   "cell_type": "code",
   "execution_count": 5,
   "id": "9722d41f",
   "metadata": {
    "execution": {
     "iopub.execute_input": "2024-07-21T04:14:52.485800Z",
     "iopub.status.busy": "2024-07-21T04:14:52.485401Z",
     "iopub.status.idle": "2024-07-21T04:14:52.507007Z",
     "shell.execute_reply": "2024-07-21T04:14:52.505952Z"
    },
    "papermill": {
     "duration": 0.030931,
     "end_time": "2024-07-21T04:14:52.509427",
     "exception": false,
     "start_time": "2024-07-21T04:14:52.478496",
     "status": "completed"
    },
    "tags": []
   },
   "outputs": [],
   "source": [
    "cnn.compile(optimizer=tf.keras.optimizers.Adam(learning_rate=0.0001),\n",
    "            loss='binary_crossentropy',\n",
    "            metrics=['accuracy', tf.keras.metrics.Precision(), tf.keras.metrics.Recall()])"
   ]
  },
  {
   "cell_type": "code",
   "execution_count": 6,
   "id": "36831edb",
   "metadata": {
    "execution": {
     "iopub.execute_input": "2024-07-21T04:14:52.522580Z",
     "iopub.status.busy": "2024-07-21T04:14:52.521756Z",
     "iopub.status.idle": "2024-07-21T04:14:52.554048Z",
     "shell.execute_reply": "2024-07-21T04:14:52.553016Z"
    },
    "papermill": {
     "duration": 0.041345,
     "end_time": "2024-07-21T04:14:52.556277",
     "exception": false,
     "start_time": "2024-07-21T04:14:52.514932",
     "status": "completed"
    },
    "tags": []
   },
   "outputs": [
    {
     "data": {
      "text/html": [
       "<pre style=\"white-space:pre;overflow-x:auto;line-height:normal;font-family:Menlo,'DejaVu Sans Mono',consolas,'Courier New',monospace\"><span style=\"font-weight: bold\">Model: \"sequential\"</span>\n",
       "</pre>\n"
      ],
      "text/plain": [
       "\u001b[1mModel: \"sequential\"\u001b[0m\n"
      ]
     },
     "metadata": {},
     "output_type": "display_data"
    },
    {
     "data": {
      "text/html": [
       "<pre style=\"white-space:pre;overflow-x:auto;line-height:normal;font-family:Menlo,'DejaVu Sans Mono',consolas,'Courier New',monospace\">┏━━━━━━━━━━━━━━━━━━━━━━━━━━━━━━━━━┳━━━━━━━━━━━━━━━━━━━━━━━━┳━━━━━━━━━━━━━━━┓\n",
       "┃<span style=\"font-weight: bold\"> Layer (type)                    </span>┃<span style=\"font-weight: bold\"> Output Shape           </span>┃<span style=\"font-weight: bold\">       Param # </span>┃\n",
       "┡━━━━━━━━━━━━━━━━━━━━━━━━━━━━━━━━━╇━━━━━━━━━━━━━━━━━━━━━━━━╇━━━━━━━━━━━━━━━┩\n",
       "│ conv2d (<span style=\"color: #0087ff; text-decoration-color: #0087ff\">Conv2D</span>)                 │ (<span style=\"color: #00d7ff; text-decoration-color: #00d7ff\">None</span>, <span style=\"color: #00af00; text-decoration-color: #00af00\">128</span>, <span style=\"color: #00af00; text-decoration-color: #00af00\">128</span>, <span style=\"color: #00af00; text-decoration-color: #00af00\">32</span>)   │           <span style=\"color: #00af00; text-decoration-color: #00af00\">320</span> │\n",
       "├─────────────────────────────────┼────────────────────────┼───────────────┤\n",
       "│ conv2d_1 (<span style=\"color: #0087ff; text-decoration-color: #0087ff\">Conv2D</span>)               │ (<span style=\"color: #00d7ff; text-decoration-color: #00d7ff\">None</span>, <span style=\"color: #00af00; text-decoration-color: #00af00\">126</span>, <span style=\"color: #00af00; text-decoration-color: #00af00\">126</span>, <span style=\"color: #00af00; text-decoration-color: #00af00\">32</span>)   │         <span style=\"color: #00af00; text-decoration-color: #00af00\">9,248</span> │\n",
       "├─────────────────────────────────┼────────────────────────┼───────────────┤\n",
       "│ max_pooling2d (<span style=\"color: #0087ff; text-decoration-color: #0087ff\">MaxPooling2D</span>)    │ (<span style=\"color: #00d7ff; text-decoration-color: #00d7ff\">None</span>, <span style=\"color: #00af00; text-decoration-color: #00af00\">63</span>, <span style=\"color: #00af00; text-decoration-color: #00af00\">63</span>, <span style=\"color: #00af00; text-decoration-color: #00af00\">32</span>)     │             <span style=\"color: #00af00; text-decoration-color: #00af00\">0</span> │\n",
       "├─────────────────────────────────┼────────────────────────┼───────────────┤\n",
       "│ conv2d_2 (<span style=\"color: #0087ff; text-decoration-color: #0087ff\">Conv2D</span>)               │ (<span style=\"color: #00d7ff; text-decoration-color: #00d7ff\">None</span>, <span style=\"color: #00af00; text-decoration-color: #00af00\">63</span>, <span style=\"color: #00af00; text-decoration-color: #00af00\">63</span>, <span style=\"color: #00af00; text-decoration-color: #00af00\">64</span>)     │        <span style=\"color: #00af00; text-decoration-color: #00af00\">18,496</span> │\n",
       "├─────────────────────────────────┼────────────────────────┼───────────────┤\n",
       "│ max_pooling2d_1 (<span style=\"color: #0087ff; text-decoration-color: #0087ff\">MaxPooling2D</span>)  │ (<span style=\"color: #00d7ff; text-decoration-color: #00d7ff\">None</span>, <span style=\"color: #00af00; text-decoration-color: #00af00\">31</span>, <span style=\"color: #00af00; text-decoration-color: #00af00\">31</span>, <span style=\"color: #00af00; text-decoration-color: #00af00\">64</span>)     │             <span style=\"color: #00af00; text-decoration-color: #00af00\">0</span> │\n",
       "├─────────────────────────────────┼────────────────────────┼───────────────┤\n",
       "│ conv2d_3 (<span style=\"color: #0087ff; text-decoration-color: #0087ff\">Conv2D</span>)               │ (<span style=\"color: #00d7ff; text-decoration-color: #00d7ff\">None</span>, <span style=\"color: #00af00; text-decoration-color: #00af00\">31</span>, <span style=\"color: #00af00; text-decoration-color: #00af00\">31</span>, <span style=\"color: #00af00; text-decoration-color: #00af00\">128</span>)    │        <span style=\"color: #00af00; text-decoration-color: #00af00\">73,856</span> │\n",
       "├─────────────────────────────────┼────────────────────────┼───────────────┤\n",
       "│ max_pooling2d_2 (<span style=\"color: #0087ff; text-decoration-color: #0087ff\">MaxPooling2D</span>)  │ (<span style=\"color: #00d7ff; text-decoration-color: #00d7ff\">None</span>, <span style=\"color: #00af00; text-decoration-color: #00af00\">15</span>, <span style=\"color: #00af00; text-decoration-color: #00af00\">15</span>, <span style=\"color: #00af00; text-decoration-color: #00af00\">128</span>)    │             <span style=\"color: #00af00; text-decoration-color: #00af00\">0</span> │\n",
       "├─────────────────────────────────┼────────────────────────┼───────────────┤\n",
       "│ conv2d_4 (<span style=\"color: #0087ff; text-decoration-color: #0087ff\">Conv2D</span>)               │ (<span style=\"color: #00d7ff; text-decoration-color: #00d7ff\">None</span>, <span style=\"color: #00af00; text-decoration-color: #00af00\">15</span>, <span style=\"color: #00af00; text-decoration-color: #00af00\">15</span>, <span style=\"color: #00af00; text-decoration-color: #00af00\">256</span>)    │       <span style=\"color: #00af00; text-decoration-color: #00af00\">295,168</span> │\n",
       "├─────────────────────────────────┼────────────────────────┼───────────────┤\n",
       "│ max_pooling2d_3 (<span style=\"color: #0087ff; text-decoration-color: #0087ff\">MaxPooling2D</span>)  │ (<span style=\"color: #00d7ff; text-decoration-color: #00d7ff\">None</span>, <span style=\"color: #00af00; text-decoration-color: #00af00\">7</span>, <span style=\"color: #00af00; text-decoration-color: #00af00\">7</span>, <span style=\"color: #00af00; text-decoration-color: #00af00\">256</span>)      │             <span style=\"color: #00af00; text-decoration-color: #00af00\">0</span> │\n",
       "├─────────────────────────────────┼────────────────────────┼───────────────┤\n",
       "│ conv2d_5 (<span style=\"color: #0087ff; text-decoration-color: #0087ff\">Conv2D</span>)               │ (<span style=\"color: #00d7ff; text-decoration-color: #00d7ff\">None</span>, <span style=\"color: #00af00; text-decoration-color: #00af00\">7</span>, <span style=\"color: #00af00; text-decoration-color: #00af00\">7</span>, <span style=\"color: #00af00; text-decoration-color: #00af00\">512</span>)      │     <span style=\"color: #00af00; text-decoration-color: #00af00\">1,180,160</span> │\n",
       "├─────────────────────────────────┼────────────────────────┼───────────────┤\n",
       "│ max_pooling2d_4 (<span style=\"color: #0087ff; text-decoration-color: #0087ff\">MaxPooling2D</span>)  │ (<span style=\"color: #00d7ff; text-decoration-color: #00d7ff\">None</span>, <span style=\"color: #00af00; text-decoration-color: #00af00\">3</span>, <span style=\"color: #00af00; text-decoration-color: #00af00\">3</span>, <span style=\"color: #00af00; text-decoration-color: #00af00\">512</span>)      │             <span style=\"color: #00af00; text-decoration-color: #00af00\">0</span> │\n",
       "├─────────────────────────────────┼────────────────────────┼───────────────┤\n",
       "│ dropout (<span style=\"color: #0087ff; text-decoration-color: #0087ff\">Dropout</span>)               │ (<span style=\"color: #00d7ff; text-decoration-color: #00d7ff\">None</span>, <span style=\"color: #00af00; text-decoration-color: #00af00\">3</span>, <span style=\"color: #00af00; text-decoration-color: #00af00\">3</span>, <span style=\"color: #00af00; text-decoration-color: #00af00\">512</span>)      │             <span style=\"color: #00af00; text-decoration-color: #00af00\">0</span> │\n",
       "├─────────────────────────────────┼────────────────────────┼───────────────┤\n",
       "│ flatten (<span style=\"color: #0087ff; text-decoration-color: #0087ff\">Flatten</span>)               │ (<span style=\"color: #00d7ff; text-decoration-color: #00d7ff\">None</span>, <span style=\"color: #00af00; text-decoration-color: #00af00\">4608</span>)           │             <span style=\"color: #00af00; text-decoration-color: #00af00\">0</span> │\n",
       "├─────────────────────────────────┼────────────────────────┼───────────────┤\n",
       "│ dense (<span style=\"color: #0087ff; text-decoration-color: #0087ff\">Dense</span>)                   │ (<span style=\"color: #00d7ff; text-decoration-color: #00d7ff\">None</span>, <span style=\"color: #00af00; text-decoration-color: #00af00\">256</span>)            │     <span style=\"color: #00af00; text-decoration-color: #00af00\">1,179,904</span> │\n",
       "├─────────────────────────────────┼────────────────────────┼───────────────┤\n",
       "│ dense_1 (<span style=\"color: #0087ff; text-decoration-color: #0087ff\">Dense</span>)                 │ (<span style=\"color: #00d7ff; text-decoration-color: #00d7ff\">None</span>, <span style=\"color: #00af00; text-decoration-color: #00af00\">1</span>)              │           <span style=\"color: #00af00; text-decoration-color: #00af00\">257</span> │\n",
       "└─────────────────────────────────┴────────────────────────┴───────────────┘\n",
       "</pre>\n"
      ],
      "text/plain": [
       "┏━━━━━━━━━━━━━━━━━━━━━━━━━━━━━━━━━┳━━━━━━━━━━━━━━━━━━━━━━━━┳━━━━━━━━━━━━━━━┓\n",
       "┃\u001b[1m \u001b[0m\u001b[1mLayer (type)                   \u001b[0m\u001b[1m \u001b[0m┃\u001b[1m \u001b[0m\u001b[1mOutput Shape          \u001b[0m\u001b[1m \u001b[0m┃\u001b[1m \u001b[0m\u001b[1m      Param #\u001b[0m\u001b[1m \u001b[0m┃\n",
       "┡━━━━━━━━━━━━━━━━━━━━━━━━━━━━━━━━━╇━━━━━━━━━━━━━━━━━━━━━━━━╇━━━━━━━━━━━━━━━┩\n",
       "│ conv2d (\u001b[38;5;33mConv2D\u001b[0m)                 │ (\u001b[38;5;45mNone\u001b[0m, \u001b[38;5;34m128\u001b[0m, \u001b[38;5;34m128\u001b[0m, \u001b[38;5;34m32\u001b[0m)   │           \u001b[38;5;34m320\u001b[0m │\n",
       "├─────────────────────────────────┼────────────────────────┼───────────────┤\n",
       "│ conv2d_1 (\u001b[38;5;33mConv2D\u001b[0m)               │ (\u001b[38;5;45mNone\u001b[0m, \u001b[38;5;34m126\u001b[0m, \u001b[38;5;34m126\u001b[0m, \u001b[38;5;34m32\u001b[0m)   │         \u001b[38;5;34m9,248\u001b[0m │\n",
       "├─────────────────────────────────┼────────────────────────┼───────────────┤\n",
       "│ max_pooling2d (\u001b[38;5;33mMaxPooling2D\u001b[0m)    │ (\u001b[38;5;45mNone\u001b[0m, \u001b[38;5;34m63\u001b[0m, \u001b[38;5;34m63\u001b[0m, \u001b[38;5;34m32\u001b[0m)     │             \u001b[38;5;34m0\u001b[0m │\n",
       "├─────────────────────────────────┼────────────────────────┼───────────────┤\n",
       "│ conv2d_2 (\u001b[38;5;33mConv2D\u001b[0m)               │ (\u001b[38;5;45mNone\u001b[0m, \u001b[38;5;34m63\u001b[0m, \u001b[38;5;34m63\u001b[0m, \u001b[38;5;34m64\u001b[0m)     │        \u001b[38;5;34m18,496\u001b[0m │\n",
       "├─────────────────────────────────┼────────────────────────┼───────────────┤\n",
       "│ max_pooling2d_1 (\u001b[38;5;33mMaxPooling2D\u001b[0m)  │ (\u001b[38;5;45mNone\u001b[0m, \u001b[38;5;34m31\u001b[0m, \u001b[38;5;34m31\u001b[0m, \u001b[38;5;34m64\u001b[0m)     │             \u001b[38;5;34m0\u001b[0m │\n",
       "├─────────────────────────────────┼────────────────────────┼───────────────┤\n",
       "│ conv2d_3 (\u001b[38;5;33mConv2D\u001b[0m)               │ (\u001b[38;5;45mNone\u001b[0m, \u001b[38;5;34m31\u001b[0m, \u001b[38;5;34m31\u001b[0m, \u001b[38;5;34m128\u001b[0m)    │        \u001b[38;5;34m73,856\u001b[0m │\n",
       "├─────────────────────────────────┼────────────────────────┼───────────────┤\n",
       "│ max_pooling2d_2 (\u001b[38;5;33mMaxPooling2D\u001b[0m)  │ (\u001b[38;5;45mNone\u001b[0m, \u001b[38;5;34m15\u001b[0m, \u001b[38;5;34m15\u001b[0m, \u001b[38;5;34m128\u001b[0m)    │             \u001b[38;5;34m0\u001b[0m │\n",
       "├─────────────────────────────────┼────────────────────────┼───────────────┤\n",
       "│ conv2d_4 (\u001b[38;5;33mConv2D\u001b[0m)               │ (\u001b[38;5;45mNone\u001b[0m, \u001b[38;5;34m15\u001b[0m, \u001b[38;5;34m15\u001b[0m, \u001b[38;5;34m256\u001b[0m)    │       \u001b[38;5;34m295,168\u001b[0m │\n",
       "├─────────────────────────────────┼────────────────────────┼───────────────┤\n",
       "│ max_pooling2d_3 (\u001b[38;5;33mMaxPooling2D\u001b[0m)  │ (\u001b[38;5;45mNone\u001b[0m, \u001b[38;5;34m7\u001b[0m, \u001b[38;5;34m7\u001b[0m, \u001b[38;5;34m256\u001b[0m)      │             \u001b[38;5;34m0\u001b[0m │\n",
       "├─────────────────────────────────┼────────────────────────┼───────────────┤\n",
       "│ conv2d_5 (\u001b[38;5;33mConv2D\u001b[0m)               │ (\u001b[38;5;45mNone\u001b[0m, \u001b[38;5;34m7\u001b[0m, \u001b[38;5;34m7\u001b[0m, \u001b[38;5;34m512\u001b[0m)      │     \u001b[38;5;34m1,180,160\u001b[0m │\n",
       "├─────────────────────────────────┼────────────────────────┼───────────────┤\n",
       "│ max_pooling2d_4 (\u001b[38;5;33mMaxPooling2D\u001b[0m)  │ (\u001b[38;5;45mNone\u001b[0m, \u001b[38;5;34m3\u001b[0m, \u001b[38;5;34m3\u001b[0m, \u001b[38;5;34m512\u001b[0m)      │             \u001b[38;5;34m0\u001b[0m │\n",
       "├─────────────────────────────────┼────────────────────────┼───────────────┤\n",
       "│ dropout (\u001b[38;5;33mDropout\u001b[0m)               │ (\u001b[38;5;45mNone\u001b[0m, \u001b[38;5;34m3\u001b[0m, \u001b[38;5;34m3\u001b[0m, \u001b[38;5;34m512\u001b[0m)      │             \u001b[38;5;34m0\u001b[0m │\n",
       "├─────────────────────────────────┼────────────────────────┼───────────────┤\n",
       "│ flatten (\u001b[38;5;33mFlatten\u001b[0m)               │ (\u001b[38;5;45mNone\u001b[0m, \u001b[38;5;34m4608\u001b[0m)           │             \u001b[38;5;34m0\u001b[0m │\n",
       "├─────────────────────────────────┼────────────────────────┼───────────────┤\n",
       "│ dense (\u001b[38;5;33mDense\u001b[0m)                   │ (\u001b[38;5;45mNone\u001b[0m, \u001b[38;5;34m256\u001b[0m)            │     \u001b[38;5;34m1,179,904\u001b[0m │\n",
       "├─────────────────────────────────┼────────────────────────┼───────────────┤\n",
       "│ dense_1 (\u001b[38;5;33mDense\u001b[0m)                 │ (\u001b[38;5;45mNone\u001b[0m, \u001b[38;5;34m1\u001b[0m)              │           \u001b[38;5;34m257\u001b[0m │\n",
       "└─────────────────────────────────┴────────────────────────┴───────────────┘\n"
      ]
     },
     "metadata": {},
     "output_type": "display_data"
    },
    {
     "data": {
      "text/html": [
       "<pre style=\"white-space:pre;overflow-x:auto;line-height:normal;font-family:Menlo,'DejaVu Sans Mono',consolas,'Courier New',monospace\"><span style=\"font-weight: bold\"> Total params: </span><span style=\"color: #00af00; text-decoration-color: #00af00\">2,757,409</span> (10.52 MB)\n",
       "</pre>\n"
      ],
      "text/plain": [
       "\u001b[1m Total params: \u001b[0m\u001b[38;5;34m2,757,409\u001b[0m (10.52 MB)\n"
      ]
     },
     "metadata": {},
     "output_type": "display_data"
    },
    {
     "data": {
      "text/html": [
       "<pre style=\"white-space:pre;overflow-x:auto;line-height:normal;font-family:Menlo,'DejaVu Sans Mono',consolas,'Courier New',monospace\"><span style=\"font-weight: bold\"> Trainable params: </span><span style=\"color: #00af00; text-decoration-color: #00af00\">2,757,409</span> (10.52 MB)\n",
       "</pre>\n"
      ],
      "text/plain": [
       "\u001b[1m Trainable params: \u001b[0m\u001b[38;5;34m2,757,409\u001b[0m (10.52 MB)\n"
      ]
     },
     "metadata": {},
     "output_type": "display_data"
    },
    {
     "data": {
      "text/html": [
       "<pre style=\"white-space:pre;overflow-x:auto;line-height:normal;font-family:Menlo,'DejaVu Sans Mono',consolas,'Courier New',monospace\"><span style=\"font-weight: bold\"> Non-trainable params: </span><span style=\"color: #00af00; text-decoration-color: #00af00\">0</span> (0.00 B)\n",
       "</pre>\n"
      ],
      "text/plain": [
       "\u001b[1m Non-trainable params: \u001b[0m\u001b[38;5;34m0\u001b[0m (0.00 B)\n"
      ]
     },
     "metadata": {},
     "output_type": "display_data"
    }
   ],
   "source": [
    "cnn.summary()"
   ]
  },
  {
   "cell_type": "code",
   "execution_count": 7,
   "id": "8152fd45",
   "metadata": {
    "execution": {
     "iopub.execute_input": "2024-07-21T04:14:52.571691Z",
     "iopub.status.busy": "2024-07-21T04:14:52.571282Z",
     "iopub.status.idle": "2024-07-21T04:47:46.400309Z",
     "shell.execute_reply": "2024-07-21T04:47:46.398902Z"
    },
    "papermill": {
     "duration": 1973.840764,
     "end_time": "2024-07-21T04:47:46.403529",
     "exception": false,
     "start_time": "2024-07-21T04:14:52.562765",
     "status": "completed"
    },
    "tags": []
   },
   "outputs": [
    {
     "name": "stdout",
     "output_type": "stream",
     "text": [
      "Epoch 1/10\n",
      "\u001b[1m163/163\u001b[0m \u001b[32m━━━━━━━━━━━━━━━━━━━━\u001b[0m\u001b[37m\u001b[0m \u001b[1m201s\u001b[0m 1s/step - accuracy: 0.8131 - loss: 0.4392 - precision: 0.8620 - recall: 0.8924 - val_accuracy: 0.7500 - val_loss: 0.4316 - val_precision: 0.6667 - val_recall: 1.0000\n",
      "Epoch 2/10\n",
      "\u001b[1m163/163\u001b[0m \u001b[32m━━━━━━━━━━━━━━━━━━━━\u001b[0m\u001b[37m\u001b[0m \u001b[1m194s\u001b[0m 1s/step - accuracy: 0.9458 - loss: 0.1461 - precision: 0.9621 - recall: 0.9656 - val_accuracy: 0.8125 - val_loss: 0.2273 - val_precision: 0.7273 - val_recall: 1.0000\n",
      "Epoch 3/10\n",
      "\u001b[1m163/163\u001b[0m \u001b[32m━━━━━━━━━━━━━━━━━━━━\u001b[0m\u001b[37m\u001b[0m \u001b[1m194s\u001b[0m 1s/step - accuracy: 0.9598 - loss: 0.0999 - precision: 0.9742 - recall: 0.9717 - val_accuracy: 1.0000 - val_loss: 0.0926 - val_precision: 1.0000 - val_recall: 1.0000\n",
      "Epoch 4/10\n",
      "\u001b[1m163/163\u001b[0m \u001b[32m━━━━━━━━━━━━━━━━━━━━\u001b[0m\u001b[37m\u001b[0m \u001b[1m195s\u001b[0m 1s/step - accuracy: 0.9741 - loss: 0.0661 - precision: 0.9854 - recall: 0.9799 - val_accuracy: 0.8750 - val_loss: 0.2029 - val_precision: 0.8000 - val_recall: 1.0000\n",
      "Epoch 5/10\n",
      "\u001b[1m163/163\u001b[0m \u001b[32m━━━━━━━━━━━━━━━━━━━━\u001b[0m\u001b[37m\u001b[0m \u001b[1m196s\u001b[0m 1s/step - accuracy: 0.9791 - loss: 0.0540 - precision: 0.9886 - recall: 0.9836 - val_accuracy: 0.6250 - val_loss: 1.0669 - val_precision: 0.5714 - val_recall: 1.0000\n",
      "Epoch 6/10\n",
      "\u001b[1m163/163\u001b[0m \u001b[32m━━━━━━━━━━━━━━━━━━━━\u001b[0m\u001b[37m\u001b[0m \u001b[1m196s\u001b[0m 1s/step - accuracy: 0.9734 - loss: 0.0597 - precision: 0.9818 - recall: 0.9829 - val_accuracy: 0.9375 - val_loss: 0.1881 - val_precision: 0.8889 - val_recall: 1.0000\n",
      "Epoch 7/10\n",
      "\u001b[1m163/163\u001b[0m \u001b[32m━━━━━━━━━━━━━━━━━━━━\u001b[0m\u001b[37m\u001b[0m \u001b[1m195s\u001b[0m 1s/step - accuracy: 0.9875 - loss: 0.0337 - precision: 0.9913 - recall: 0.9919 - val_accuracy: 0.8750 - val_loss: 0.1220 - val_precision: 0.8000 - val_recall: 1.0000\n",
      "Epoch 8/10\n",
      "\u001b[1m163/163\u001b[0m \u001b[32m━━━━━━━━━━━━━━━━━━━━\u001b[0m\u001b[37m\u001b[0m \u001b[1m205s\u001b[0m 1s/step - accuracy: 0.9839 - loss: 0.0436 - precision: 0.9896 - recall: 0.9889 - val_accuracy: 0.6875 - val_loss: 0.6787 - val_precision: 0.6154 - val_recall: 1.0000\n",
      "Epoch 9/10\n",
      "\u001b[1m163/163\u001b[0m \u001b[32m━━━━━━━━━━━━━━━━━━━━\u001b[0m\u001b[37m\u001b[0m \u001b[1m198s\u001b[0m 1s/step - accuracy: 0.9918 - loss: 0.0272 - precision: 0.9956 - recall: 0.9936 - val_accuracy: 1.0000 - val_loss: 0.0374 - val_precision: 1.0000 - val_recall: 1.0000\n",
      "Epoch 10/10\n",
      "\u001b[1m163/163\u001b[0m \u001b[32m━━━━━━━━━━━━━━━━━━━━\u001b[0m\u001b[37m\u001b[0m \u001b[1m198s\u001b[0m 1s/step - accuracy: 0.9935 - loss: 0.0171 - precision: 0.9964 - recall: 0.9949 - val_accuracy: 0.8750 - val_loss: 0.2192 - val_precision: 0.8000 - val_recall: 1.0000\n"
     ]
    }
   ],
   "source": [
    "training_history = cnn.fit(training_set, epochs=10, validation_data=validation_set)"
   ]
  },
  {
   "cell_type": "markdown",
   "id": "bd2cae38",
   "metadata": {
    "papermill": {
     "duration": 0.12144,
     "end_time": "2024-07-21T04:47:46.642681",
     "exception": false,
     "start_time": "2024-07-21T04:47:46.521241",
     "status": "completed"
    },
    "tags": []
   },
   "source": [
    "# **Evaluating Model**"
   ]
  },
  {
   "cell_type": "code",
   "execution_count": 8,
   "id": "5ed7628d",
   "metadata": {
    "execution": {
     "iopub.execute_input": "2024-07-21T04:47:46.881170Z",
     "iopub.status.busy": "2024-07-21T04:47:46.880373Z",
     "iopub.status.idle": "2024-07-21T04:48:48.199118Z",
     "shell.execute_reply": "2024-07-21T04:48:48.198163Z"
    },
    "papermill": {
     "duration": 61.441978,
     "end_time": "2024-07-21T04:48:48.203072",
     "exception": false,
     "start_time": "2024-07-21T04:47:46.761094",
     "status": "completed"
    },
    "tags": []
   },
   "outputs": [
    {
     "name": "stdout",
     "output_type": "stream",
     "text": [
      "\u001b[1m163/163\u001b[0m \u001b[32m━━━━━━━━━━━━━━━━━━━━\u001b[0m\u001b[37m\u001b[0m \u001b[1m61s\u001b[0m 375ms/step - accuracy: 0.9976 - loss: 0.0105 - precision: 0.9981 - recall: 0.9987\n",
      "Training loss: 0.010145560838282108\n",
      "Training accuracy: 0.9976993799209595\n",
      "Training precision: 0.9979376196861267\n",
      "Training recall: 0.9989677667617798\n"
     ]
    }
   ],
   "source": [
    "# Evaluate the model on the training set\n",
    "train_loss, train_acc, train_precision, train_recall = cnn.evaluate(training_set)\n",
    "print('Training loss:', train_loss)\n",
    "print('Training accuracy:', train_acc)\n",
    "print('Training precision:', train_precision)\n",
    "print('Training recall:', train_recall)"
   ]
  },
  {
   "cell_type": "code",
   "execution_count": 9,
   "id": "e2b60fa9",
   "metadata": {
    "execution": {
     "iopub.execute_input": "2024-07-21T04:48:48.464192Z",
     "iopub.status.busy": "2024-07-21T04:48:48.463768Z",
     "iopub.status.idle": "2024-07-21T04:48:48.680630Z",
     "shell.execute_reply": "2024-07-21T04:48:48.679213Z"
    },
    "papermill": {
     "duration": 0.351708,
     "end_time": "2024-07-21T04:48:48.683159",
     "exception": false,
     "start_time": "2024-07-21T04:48:48.331451",
     "status": "completed"
    },
    "tags": []
   },
   "outputs": [
    {
     "name": "stdout",
     "output_type": "stream",
     "text": [
      "\u001b[1m1/1\u001b[0m \u001b[32m━━━━━━━━━━━━━━━━━━━━\u001b[0m\u001b[37m\u001b[0m \u001b[1m0s\u001b[0m 204ms/step - accuracy: 0.8750 - loss: 0.2192 - precision: 0.8000 - recall: 1.0000\n",
      "Validation Loss: 0.21923357248306274\n",
      "Validation Accuracy: 0.875\n",
      "Validation Precision: 0.800000011920929\n",
      "Validation Recall: 1.0\n"
     ]
    }
   ],
   "source": [
    "# Explicit unpacking assuming the model was compiled with loss, accuracy, precision, and recall\n",
    "val_loss, val_acc, val_precision, val_recall = cnn.evaluate(validation_set, verbose=1)\n",
    "print('Validation Loss:', val_loss)\n",
    "print('Validation Accuracy:', val_acc)\n",
    "print('Validation Precision:', val_precision)\n",
    "print('Validation Recall:', val_recall)"
   ]
  },
  {
   "cell_type": "markdown",
   "id": "081bcf00",
   "metadata": {
    "papermill": {
     "duration": 0.132695,
     "end_time": "2024-07-21T04:48:48.948200",
     "exception": false,
     "start_time": "2024-07-21T04:48:48.815505",
     "status": "completed"
    },
    "tags": []
   },
   "source": [
    "# **Saving Model**"
   ]
  },
  {
   "cell_type": "code",
   "execution_count": 10,
   "id": "25f6945a",
   "metadata": {
    "execution": {
     "iopub.execute_input": "2024-07-21T04:48:49.207076Z",
     "iopub.status.busy": "2024-07-21T04:48:49.206673Z",
     "iopub.status.idle": "2024-07-21T04:48:49.425224Z",
     "shell.execute_reply": "2024-07-21T04:48:49.424178Z"
    },
    "papermill": {
     "duration": 0.350898,
     "end_time": "2024-07-21T04:48:49.427684",
     "exception": false,
     "start_time": "2024-07-21T04:48:49.076786",
     "status": "completed"
    },
    "tags": []
   },
   "outputs": [],
   "source": [
    "cnn.save('pneumonia_x-ray_model.keras')"
   ]
  },
  {
   "cell_type": "code",
   "execution_count": 11,
   "id": "f83de4e4",
   "metadata": {
    "execution": {
     "iopub.execute_input": "2024-07-21T04:48:49.689494Z",
     "iopub.status.busy": "2024-07-21T04:48:49.689083Z",
     "iopub.status.idle": "2024-07-21T04:48:49.697207Z",
     "shell.execute_reply": "2024-07-21T04:48:49.696133Z"
    },
    "papermill": {
     "duration": 0.142315,
     "end_time": "2024-07-21T04:48:49.699438",
     "exception": false,
     "start_time": "2024-07-21T04:48:49.557123",
     "status": "completed"
    },
    "tags": []
   },
   "outputs": [
    {
     "data": {
      "text/plain": [
       "{'accuracy': [0.8757668733596802,\n",
       "  0.9451687335968018,\n",
       "  0.9633818864822388,\n",
       "  0.9710506200790405,\n",
       "  0.9764187335968018,\n",
       "  0.9768021702766418,\n",
       "  0.9867714643478394,\n",
       "  0.9844708442687988,\n",
       "  0.9904140830039978,\n",
       "  0.9930981397628784],\n",
       " 'loss': [0.29343241453170776,\n",
       "  0.14194005727767944,\n",
       "  0.09337925165891647,\n",
       "  0.07179118692874908,\n",
       "  0.058497920632362366,\n",
       "  0.05518585070967674,\n",
       "  0.03884682431817055,\n",
       "  0.04018512740731239,\n",
       "  0.02951326034963131,\n",
       "  0.018838994204998016],\n",
       " 'precision': [0.9069356918334961,\n",
       "  0.9611924886703491,\n",
       "  0.9754775166511536,\n",
       "  0.9818840622901917,\n",
       "  0.9852560758590698,\n",
       "  0.9847623705863953,\n",
       "  0.9912235140800476,\n",
       "  0.9901808500289917,\n",
       "  0.9943137764930725,\n",
       "  0.9956106543540955],\n",
       " 'recall': [0.9279999732971191,\n",
       "  0.9651612639427185,\n",
       "  0.9752258062362671,\n",
       "  0.9790967702865601,\n",
       "  0.982967734336853,\n",
       "  0.984000027179718,\n",
       "  0.9909677505493164,\n",
       "  0.9889032244682312,\n",
       "  0.9927741885185242,\n",
       "  0.9950968027114868],\n",
       " 'val_accuracy': [0.75,\n",
       "  0.8125,\n",
       "  1.0,\n",
       "  0.875,\n",
       "  0.625,\n",
       "  0.9375,\n",
       "  0.875,\n",
       "  0.6875,\n",
       "  1.0,\n",
       "  0.875],\n",
       " 'val_loss': [0.43161740899086,\n",
       "  0.22731326520442963,\n",
       "  0.09257976710796356,\n",
       "  0.20291981101036072,\n",
       "  1.0668745040893555,\n",
       "  0.1881425678730011,\n",
       "  0.12195976078510284,\n",
       "  0.6786772608757019,\n",
       "  0.03739538416266441,\n",
       "  0.21923357248306274],\n",
       " 'val_precision': [0.6666666865348816,\n",
       "  0.7272727489471436,\n",
       "  1.0,\n",
       "  0.800000011920929,\n",
       "  0.5714285969734192,\n",
       "  0.8888888955116272,\n",
       "  0.800000011920929,\n",
       "  0.6153846383094788,\n",
       "  1.0,\n",
       "  0.800000011920929],\n",
       " 'val_recall': [1.0, 1.0, 1.0, 1.0, 1.0, 1.0, 1.0, 1.0, 1.0, 1.0]}"
      ]
     },
     "execution_count": 11,
     "metadata": {},
     "output_type": "execute_result"
    }
   ],
   "source": [
    "# Dcitionary of Training History\n",
    "training_history.history"
   ]
  },
  {
   "cell_type": "code",
   "execution_count": 12,
   "id": "337300df",
   "metadata": {
    "execution": {
     "iopub.execute_input": "2024-07-21T04:48:49.963198Z",
     "iopub.status.busy": "2024-07-21T04:48:49.962819Z",
     "iopub.status.idle": "2024-07-21T04:48:49.968605Z",
     "shell.execute_reply": "2024-07-21T04:48:49.967710Z"
    },
    "papermill": {
     "duration": 0.141624,
     "end_time": "2024-07-21T04:48:49.970689",
     "exception": false,
     "start_time": "2024-07-21T04:48:49.829065",
     "status": "completed"
    },
    "tags": []
   },
   "outputs": [],
   "source": [
    "import json\n",
    "with open('training_hist.json','w') as training_file:\n",
    "  json.dump(training_history.history,training_file)"
   ]
  },
  {
   "cell_type": "code",
   "execution_count": 13,
   "id": "d81fed6d",
   "metadata": {
    "execution": {
     "iopub.execute_input": "2024-07-21T04:48:50.233938Z",
     "iopub.status.busy": "2024-07-21T04:48:50.233535Z",
     "iopub.status.idle": "2024-07-21T04:48:50.239447Z",
     "shell.execute_reply": "2024-07-21T04:48:50.238187Z"
    },
    "papermill": {
     "duration": 0.141334,
     "end_time": "2024-07-21T04:48:50.242461",
     "exception": false,
     "start_time": "2024-07-21T04:48:50.101127",
     "status": "completed"
    },
    "tags": []
   },
   "outputs": [
    {
     "name": "stdout",
     "output_type": "stream",
     "text": [
      "dict_keys(['accuracy', 'loss', 'precision', 'recall', 'val_accuracy', 'val_loss', 'val_precision', 'val_recall'])\n"
     ]
    }
   ],
   "source": [
    "print(training_history.history.keys())"
   ]
  },
  {
   "cell_type": "code",
   "execution_count": 14,
   "id": "016751fe",
   "metadata": {
    "execution": {
     "iopub.execute_input": "2024-07-21T04:48:50.508193Z",
     "iopub.status.busy": "2024-07-21T04:48:50.507739Z",
     "iopub.status.idle": "2024-07-21T04:48:51.183937Z",
     "shell.execute_reply": "2024-07-21T04:48:51.182511Z"
    },
    "papermill": {
     "duration": 0.812875,
     "end_time": "2024-07-21T04:48:51.186604",
     "exception": false,
     "start_time": "2024-07-21T04:48:50.373729",
     "status": "completed"
    },
    "tags": []
   },
   "outputs": [
    {
     "data": {
      "image/png": "[encoded data removed]",
      "text/plain": [
       "<Figure size 1200x500 with 2 Axes>"
      ]
     },
     "metadata": {},
     "output_type": "display_data"
    }
   ],
   "source": [
    "# Assuming `training_history` is the output of your model's fit method\n",
    "epochs = [i for i in range(1, 11)]\n",
    "\n",
    "# Plotting training and validation accuracy\n",
    "plt.figure(figsize=(12, 5))\n",
    "plt.subplot(1, 2, 1)  # 1 row, 2 columns, 1st subplot\n",
    "plt.plot(epochs, training_history.history['accuracy'], color='red', label='Training Accuracy')\n",
    "plt.plot(epochs, training_history.history['val_accuracy'], color='blue', label='Validation Accuracy')\n",
    "plt.title('Training and Validation Accuracy')\n",
    "plt.xlabel('Epochs')\n",
    "plt.ylabel('Accuracy')\n",
    "plt.legend()\n",
    "\n",
    "# Plotting training and validation loss\n",
    "plt.subplot(1, 2, 2)  # 1 row, 2 columns, 2nd subplot\n",
    "plt.plot(epochs, training_history.history['loss'], color='red', label='Training Loss')\n",
    "plt.plot(epochs, training_history.history['val_loss'], color='blue', label='Validation Loss')\n",
    "plt.title('Training and Validation Loss')\n",
    "plt.xlabel('Epochs')\n",
    "plt.ylabel('Loss')\n",
    "plt.legend()\n",
    "\n",
    "plt.tight_layout()\n",
    "plt.show()"
   ]
  }
 ],
 "metadata": {
  "kaggle": {
   "accelerator": "none",
   "dataSources": [
    {
     "datasetId": 17810,
     "sourceId": 23812,
     "sourceType": "datasetVersion"
    },
    {
     "isSourceIdPinned": true,
     "modelId": 90565,
     "modelInstanceId": 65791,
     "sourceId": 78275,
     "sourceType": "modelInstanceVersion"
    }
   ],
   "dockerImageVersionId": 30746,
   "isGpuEnabled": false,
   "isInternetEnabled": false,
   "language": "python",
   "sourceType": "notebook"
  },
  "kernelspec": {
   "display_name": "Python 3",
   "language": "python",
   "name": "python3"
  },
  "language_info": {
   "codemirror_mode": {
    "name": "ipython",
    "version": 3
   },
   "file_extension": ".py",
   "mimetype": "text/x-python",
   "name": "python",
   "nbconvert_exporter": "python",
   "pygments_lexer": "ipython3",
   "version": "3.10.13"
  },
  "papermill": {
   "default_parameters": {},
   "duration": 2067.37556,
   "end_time": "2024-07-21T04:48:53.635889",
   "environment_variables": {},
   "exception": null,
   "input_path": "__notebook__.ipynb",
   "output_path": "__notebook__.ipynb",
   "parameters": {},
   "start_time": "2024-07-21T04:14:26.260329",
   "version": "2.5.0"
  }
 },
 "nbformat": 4,
 "nbformat_minor": 5
}
