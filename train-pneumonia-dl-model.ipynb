{
 "cells": [
  {
   "cell_type": "code",
   "execution_count": 1,
   "id": "0c91805e",
   "metadata": {
    "execution": {
     "iopub.execute_input": "2024-07-21T02:48:13.729307Z",
     "iopub.status.busy": "2024-07-21T02:48:13.728904Z",
     "iopub.status.idle": "2024-07-21T02:48:32.793026Z",
     "shell.execute_reply": "2024-07-21T02:48:32.791451Z"
    },
    "papermill": {
     "duration": 19.07684,
     "end_time": "2024-07-21T02:48:32.796388",
     "exception": false,
     "start_time": "2024-07-21T02:48:13.719548",
     "status": "completed"
    },
    "tags": []
   },
   "outputs": [
    {
     "name": "stderr",
     "output_type": "stream",
     "text": [
      "2024-07-21 02:48:16.454484: E external/local_xla/xla/stream_executor/cuda/cuda_dnn.cc:9261] Unable to register cuDNN factory: Attempting to register factory for plugin cuDNN when one has already been registered\n",
      "2024-07-21 02:48:16.454626: E external/local_xla/xla/stream_executor/cuda/cuda_fft.cc:607] Unable to register cuFFT factory: Attempting to register factory for plugin cuFFT when one has already been registered\n",
      "2024-07-21 02:48:16.686687: E external/local_xla/xla/stream_executor/cuda/cuda_blas.cc:1515] Unable to register cuBLAS factory: Attempting to register factory for plugin cuBLAS when one has already been registered\n"
     ]
    }
   ],
   "source": [
    "import tensorflow as tf\n",
    "from tensorflow.keras.models import Sequential\n",
    "from tensorflow.keras.layers import Input, Conv2D, MaxPool2D, Dropout, Flatten, Dense\n",
    "import matplotlib.pyplot as plt\n",
    "import pandas as pd\n",
    "import seaborn as sns\n",
    "import os"
   ]
  },
  {
   "cell_type": "markdown",
   "id": "cd72857f",
   "metadata": {
    "papermill": {
     "duration": 0.007076,
     "end_time": "2024-07-21T02:48:32.811106",
     "exception": false,
     "start_time": "2024-07-21T02:48:32.804030",
     "status": "completed"
    },
    "tags": []
   },
   "source": [
    "# **Data Processing**"
   ]
  },
  {
   "cell_type": "markdown",
   "id": "c17b2b95",
   "metadata": {
    "papermill": {
     "duration": 0.007052,
     "end_time": "2024-07-21T02:48:32.825414",
     "exception": false,
     "start_time": "2024-07-21T02:48:32.818362",
     "status": "completed"
    },
    "tags": []
   },
   "source": [
    "# Training Image Preprocessing"
   ]
  },
  {
   "cell_type": "code",
   "execution_count": 2,
   "id": "b7aca92c",
   "metadata": {
    "_cell_guid": "b1076dfc-b9ad-4769-8c92-a6c4dae69d19",
    "_uuid": "8f2839f25d086af736a60e9eeb907d3b93b6e0e5",
    "execution": {
     "iopub.execute_input": "2024-07-21T02:48:32.842069Z",
     "iopub.status.busy": "2024-07-21T02:48:32.841324Z",
     "iopub.status.idle": "2024-07-21T02:48:44.842863Z",
     "shell.execute_reply": "2024-07-21T02:48:44.841739Z"
    },
    "papermill": {
     "duration": 12.013325,
     "end_time": "2024-07-21T02:48:44.846095",
     "exception": false,
     "start_time": "2024-07-21T02:48:32.832770",
     "status": "completed"
    },
    "tags": []
   },
   "outputs": [
    {
     "name": "stdout",
     "output_type": "stream",
     "text": [
      "Found 5216 files belonging to 2 classes.\n"
     ]
    }
   ],
   "source": [
    "training_set = tf.keras.utils.image_dataset_from_directory(\n",
    "    '/kaggle/input/chest-xray-pneumonia/chest_xray/train',\n",
    "    labels=\"inferred\",\n",
    "    label_mode=\"binary\",\n",
    "    class_names=None,\n",
    "    color_mode=\"grayscale\",\n",
    "    batch_size=32,\n",
    "    image_size=(128, 128),\n",
    "    shuffle=True,\n",
    "    seed=None,\n",
    "    validation_split=None,\n",
    "    subset=None,\n",
    "    interpolation=\"bilinear\",\n",
    "    follow_links=False,\n",
    "    crop_to_aspect_ratio=False\n",
    ")"
   ]
  },
  {
   "cell_type": "markdown",
   "id": "dca3a545",
   "metadata": {
    "papermill": {
     "duration": 0.007174,
     "end_time": "2024-07-21T02:48:44.860987",
     "exception": false,
     "start_time": "2024-07-21T02:48:44.853813",
     "status": "completed"
    },
    "tags": []
   },
   "source": [
    "# Validation Image Preprocessing"
   ]
  },
  {
   "cell_type": "code",
   "execution_count": 3,
   "id": "f4d2a38a",
   "metadata": {
    "execution": {
     "iopub.execute_input": "2024-07-21T02:48:44.877618Z",
     "iopub.status.busy": "2024-07-21T02:48:44.877224Z",
     "iopub.status.idle": "2024-07-21T02:48:44.955287Z",
     "shell.execute_reply": "2024-07-21T02:48:44.954070Z"
    },
    "papermill": {
     "duration": 0.089846,
     "end_time": "2024-07-21T02:48:44.958225",
     "exception": false,
     "start_time": "2024-07-21T02:48:44.868379",
     "status": "completed"
    },
    "tags": []
   },
   "outputs": [
    {
     "name": "stdout",
     "output_type": "stream",
     "text": [
      "Found 16 files belonging to 2 classes.\n"
     ]
    }
   ],
   "source": [
    "validation_set = tf.keras.utils.image_dataset_from_directory(\n",
    "    '/kaggle/input/chest-xray-pneumonia/chest_xray/val',\n",
    "    labels=\"inferred\",\n",
    "    label_mode=\"binary\",\n",
    "    class_names=None,\n",
    "    color_mode=\"grayscale\",\n",
    "    batch_size=32,\n",
    "    image_size=(128, 128),\n",
    "    shuffle=True,\n",
    "    seed=None,\n",
    "    validation_split=None,\n",
    "    subset=None,\n",
    "    interpolation=\"bilinear\",\n",
    "    follow_links=False,\n",
    "    crop_to_aspect_ratio=False\n",
    ")"
   ]
  },
  {
   "cell_type": "markdown",
   "id": "d27237c7",
   "metadata": {
    "papermill": {
     "duration": 0.007708,
     "end_time": "2024-07-21T02:48:44.973675",
     "exception": false,
     "start_time": "2024-07-21T02:48:44.965967",
     "status": "completed"
    },
    "tags": []
   },
   "source": [
    "# **Building Model**"
   ]
  },
  {
   "cell_type": "markdown",
   "id": "1a9a1202",
   "metadata": {
    "papermill": {
     "duration": 0.007376,
     "end_time": "2024-07-21T02:48:44.989287",
     "exception": false,
     "start_time": "2024-07-21T02:48:44.981911",
     "status": "completed"
    },
    "tags": []
   },
   "source": [
    "# Building Convolution Layer"
   ]
  },
  {
   "cell_type": "code",
   "execution_count": 4,
   "id": "9d66e2a1",
   "metadata": {
    "execution": {
     "iopub.execute_input": "2024-07-21T02:48:45.006561Z",
     "iopub.status.busy": "2024-07-21T02:48:45.006155Z",
     "iopub.status.idle": "2024-07-21T02:48:45.400901Z",
     "shell.execute_reply": "2024-07-21T02:48:45.399375Z"
    },
    "papermill": {
     "duration": 0.406781,
     "end_time": "2024-07-21T02:48:45.403712",
     "exception": false,
     "start_time": "2024-07-21T02:48:44.996931",
     "status": "completed"
    },
    "tags": []
   },
   "outputs": [],
   "source": [
    "cnn = Sequential([\n",
    "    Input(shape=[128, 128, 1]),\n",
    "    Conv2D(filters=32, kernel_size=3, padding='same', activation='relu'),\n",
    "    Conv2D(filters=32, kernel_size=3, activation='relu'),\n",
    "    MaxPool2D(pool_size=2, strides=2),\n",
    "    Conv2D(filters=64, kernel_size=3, padding='same', activation='relu'),\n",
    "    MaxPool2D(pool_size=2, strides=2),\n",
    "    Conv2D(filters=128, kernel_size=3, padding='same', activation='relu'),\n",
    "    MaxPool2D(pool_size=2, strides=2),\n",
    "    Conv2D(filters=256, kernel_size=3, padding='same', activation='relu'),\n",
    "    MaxPool2D(pool_size=2, strides=2),\n",
    "    Conv2D(filters=512, kernel_size=3, padding='same', activation='relu'),\n",
    "    MaxPool2D(pool_size=2, strides=2),\n",
    "    Dropout(0.45),\n",
    "    Flatten(),\n",
    "    Dense(units=256, activation='relu'),\n",
    "    Dense(units=1, activation='sigmoid')\n",
    "])"
   ]
  },
  {
   "cell_type": "markdown",
   "id": "94dedb93",
   "metadata": {
    "papermill": {
     "duration": 0.007203,
     "end_time": "2024-07-21T02:48:45.418535",
     "exception": false,
     "start_time": "2024-07-21T02:48:45.411332",
     "status": "completed"
    },
    "tags": []
   },
   "source": [
    "# Compiling and Training Phase"
   ]
  },
  {
   "cell_type": "code",
   "execution_count": 5,
   "id": "13fd424b",
   "metadata": {
    "execution": {
     "iopub.execute_input": "2024-07-21T02:48:45.436091Z",
     "iopub.status.busy": "2024-07-21T02:48:45.435333Z",
     "iopub.status.idle": "2024-07-21T02:48:45.458975Z",
     "shell.execute_reply": "2024-07-21T02:48:45.457717Z"
    },
    "papermill": {
     "duration": 0.035675,
     "end_time": "2024-07-21T02:48:45.461798",
     "exception": false,
     "start_time": "2024-07-21T02:48:45.426123",
     "status": "completed"
    },
    "tags": []
   },
   "outputs": [],
   "source": [
    "cnn.compile(optimizer=tf.keras.optimizers.Adam(learning_rate=0.0001),\n",
    "            loss='binary_crossentropy',\n",
    "            metrics=['accuracy', tf.keras.metrics.Precision(), tf.keras.metrics.Recall()])"
   ]
  },
  {
   "cell_type": "code",
   "execution_count": 6,
   "id": "0909694e",
   "metadata": {
    "execution": {
     "iopub.execute_input": "2024-07-21T02:48:45.478935Z",
     "iopub.status.busy": "2024-07-21T02:48:45.478504Z",
     "iopub.status.idle": "2024-07-21T02:48:45.516334Z",
     "shell.execute_reply": "2024-07-21T02:48:45.515199Z"
    },
    "papermill": {
     "duration": 0.04957,
     "end_time": "2024-07-21T02:48:45.518982",
     "exception": false,
     "start_time": "2024-07-21T02:48:45.469412",
     "status": "completed"
    },
    "tags": []
   },
   "outputs": [
    {
     "data": {
      "text/html": [
       "<pre style=\"white-space:pre;overflow-x:auto;line-height:normal;font-family:Menlo,'DejaVu Sans Mono',consolas,'Courier New',monospace\"><span style=\"font-weight: bold\">Model: \"sequential\"</span>\n",
       "</pre>\n"
      ],
      "text/plain": [
       "\u001b[1mModel: \"sequential\"\u001b[0m\n"
      ]
     },
     "metadata": {},
     "output_type": "display_data"
    },
    {
     "data": {
      "text/html": [
       "<pre style=\"white-space:pre;overflow-x:auto;line-height:normal;font-family:Menlo,'DejaVu Sans Mono',consolas,'Courier New',monospace\">┏━━━━━━━━━━━━━━━━━━━━━━━━━━━━━━━━━┳━━━━━━━━━━━━━━━━━━━━━━━━┳━━━━━━━━━━━━━━━┓\n",
       "┃<span style=\"font-weight: bold\"> Layer (type)                    </span>┃<span style=\"font-weight: bold\"> Output Shape           </span>┃<span style=\"font-weight: bold\">       Param # </span>┃\n",
       "┡━━━━━━━━━━━━━━━━━━━━━━━━━━━━━━━━━╇━━━━━━━━━━━━━━━━━━━━━━━━╇━━━━━━━━━━━━━━━┩\n",
       "│ conv2d (<span style=\"color: #0087ff; text-decoration-color: #0087ff\">Conv2D</span>)                 │ (<span style=\"color: #00d7ff; text-decoration-color: #00d7ff\">None</span>, <span style=\"color: #00af00; text-decoration-color: #00af00\">128</span>, <span style=\"color: #00af00; text-decoration-color: #00af00\">128</span>, <span style=\"color: #00af00; text-decoration-color: #00af00\">32</span>)   │           <span style=\"color: #00af00; text-decoration-color: #00af00\">320</span> │\n",
       "├─────────────────────────────────┼────────────────────────┼───────────────┤\n",
       "│ conv2d_1 (<span style=\"color: #0087ff; text-decoration-color: #0087ff\">Conv2D</span>)               │ (<span style=\"color: #00d7ff; text-decoration-color: #00d7ff\">None</span>, <span style=\"color: #00af00; text-decoration-color: #00af00\">126</span>, <span style=\"color: #00af00; text-decoration-color: #00af00\">126</span>, <span style=\"color: #00af00; text-decoration-color: #00af00\">32</span>)   │         <span style=\"color: #00af00; text-decoration-color: #00af00\">9,248</span> │\n",
       "├─────────────────────────────────┼────────────────────────┼───────────────┤\n",
       "│ max_pooling2d (<span style=\"color: #0087ff; text-decoration-color: #0087ff\">MaxPooling2D</span>)    │ (<span style=\"color: #00d7ff; text-decoration-color: #00d7ff\">None</span>, <span style=\"color: #00af00; text-decoration-color: #00af00\">63</span>, <span style=\"color: #00af00; text-decoration-color: #00af00\">63</span>, <span style=\"color: #00af00; text-decoration-color: #00af00\">32</span>)     │             <span style=\"color: #00af00; text-decoration-color: #00af00\">0</span> │\n",
       "├─────────────────────────────────┼────────────────────────┼───────────────┤\n",
       "│ conv2d_2 (<span style=\"color: #0087ff; text-decoration-color: #0087ff\">Conv2D</span>)               │ (<span style=\"color: #00d7ff; text-decoration-color: #00d7ff\">None</span>, <span style=\"color: #00af00; text-decoration-color: #00af00\">63</span>, <span style=\"color: #00af00; text-decoration-color: #00af00\">63</span>, <span style=\"color: #00af00; text-decoration-color: #00af00\">64</span>)     │        <span style=\"color: #00af00; text-decoration-color: #00af00\">18,496</span> │\n",
       "├─────────────────────────────────┼────────────────────────┼───────────────┤\n",
       "│ max_pooling2d_1 (<span style=\"color: #0087ff; text-decoration-color: #0087ff\">MaxPooling2D</span>)  │ (<span style=\"color: #00d7ff; text-decoration-color: #00d7ff\">None</span>, <span style=\"color: #00af00; text-decoration-color: #00af00\">31</span>, <span style=\"color: #00af00; text-decoration-color: #00af00\">31</span>, <span style=\"color: #00af00; text-decoration-color: #00af00\">64</span>)     │             <span style=\"color: #00af00; text-decoration-color: #00af00\">0</span> │\n",
       "├─────────────────────────────────┼────────────────────────┼───────────────┤\n",
       "│ conv2d_3 (<span style=\"color: #0087ff; text-decoration-color: #0087ff\">Conv2D</span>)               │ (<span style=\"color: #00d7ff; text-decoration-color: #00d7ff\">None</span>, <span style=\"color: #00af00; text-decoration-color: #00af00\">31</span>, <span style=\"color: #00af00; text-decoration-color: #00af00\">31</span>, <span style=\"color: #00af00; text-decoration-color: #00af00\">128</span>)    │        <span style=\"color: #00af00; text-decoration-color: #00af00\">73,856</span> │\n",
       "├─────────────────────────────────┼────────────────────────┼───────────────┤\n",
       "│ max_pooling2d_2 (<span style=\"color: #0087ff; text-decoration-color: #0087ff\">MaxPooling2D</span>)  │ (<span style=\"color: #00d7ff; text-decoration-color: #00d7ff\">None</span>, <span style=\"color: #00af00; text-decoration-color: #00af00\">15</span>, <span style=\"color: #00af00; text-decoration-color: #00af00\">15</span>, <span style=\"color: #00af00; text-decoration-color: #00af00\">128</span>)    │             <span style=\"color: #00af00; text-decoration-color: #00af00\">0</span> │\n",
       "├─────────────────────────────────┼────────────────────────┼───────────────┤\n",
       "│ conv2d_4 (<span style=\"color: #0087ff; text-decoration-color: #0087ff\">Conv2D</span>)               │ (<span style=\"color: #00d7ff; text-decoration-color: #00d7ff\">None</span>, <span style=\"color: #00af00; text-decoration-color: #00af00\">15</span>, <span style=\"color: #00af00; text-decoration-color: #00af00\">15</span>, <span style=\"color: #00af00; text-decoration-color: #00af00\">256</span>)    │       <span style=\"color: #00af00; text-decoration-color: #00af00\">295,168</span> │\n",
       "├─────────────────────────────────┼────────────────────────┼───────────────┤\n",
       "│ max_pooling2d_3 (<span style=\"color: #0087ff; text-decoration-color: #0087ff\">MaxPooling2D</span>)  │ (<span style=\"color: #00d7ff; text-decoration-color: #00d7ff\">None</span>, <span style=\"color: #00af00; text-decoration-color: #00af00\">7</span>, <span style=\"color: #00af00; text-decoration-color: #00af00\">7</span>, <span style=\"color: #00af00; text-decoration-color: #00af00\">256</span>)      │             <span style=\"color: #00af00; text-decoration-color: #00af00\">0</span> │\n",
       "├─────────────────────────────────┼────────────────────────┼───────────────┤\n",
       "│ conv2d_5 (<span style=\"color: #0087ff; text-decoration-color: #0087ff\">Conv2D</span>)               │ (<span style=\"color: #00d7ff; text-decoration-color: #00d7ff\">None</span>, <span style=\"color: #00af00; text-decoration-color: #00af00\">7</span>, <span style=\"color: #00af00; text-decoration-color: #00af00\">7</span>, <span style=\"color: #00af00; text-decoration-color: #00af00\">512</span>)      │     <span style=\"color: #00af00; text-decoration-color: #00af00\">1,180,160</span> │\n",
       "├─────────────────────────────────┼────────────────────────┼───────────────┤\n",
       "│ max_pooling2d_4 (<span style=\"color: #0087ff; text-decoration-color: #0087ff\">MaxPooling2D</span>)  │ (<span style=\"color: #00d7ff; text-decoration-color: #00d7ff\">None</span>, <span style=\"color: #00af00; text-decoration-color: #00af00\">3</span>, <span style=\"color: #00af00; text-decoration-color: #00af00\">3</span>, <span style=\"color: #00af00; text-decoration-color: #00af00\">512</span>)      │             <span style=\"color: #00af00; text-decoration-color: #00af00\">0</span> │\n",
       "├─────────────────────────────────┼────────────────────────┼───────────────┤\n",
       "│ dropout (<span style=\"color: #0087ff; text-decoration-color: #0087ff\">Dropout</span>)               │ (<span style=\"color: #00d7ff; text-decoration-color: #00d7ff\">None</span>, <span style=\"color: #00af00; text-decoration-color: #00af00\">3</span>, <span style=\"color: #00af00; text-decoration-color: #00af00\">3</span>, <span style=\"color: #00af00; text-decoration-color: #00af00\">512</span>)      │             <span style=\"color: #00af00; text-decoration-color: #00af00\">0</span> │\n",
       "├─────────────────────────────────┼────────────────────────┼───────────────┤\n",
       "│ flatten (<span style=\"color: #0087ff; text-decoration-color: #0087ff\">Flatten</span>)               │ (<span style=\"color: #00d7ff; text-decoration-color: #00d7ff\">None</span>, <span style=\"color: #00af00; text-decoration-color: #00af00\">4608</span>)           │             <span style=\"color: #00af00; text-decoration-color: #00af00\">0</span> │\n",
       "├─────────────────────────────────┼────────────────────────┼───────────────┤\n",
       "│ dense (<span style=\"color: #0087ff; text-decoration-color: #0087ff\">Dense</span>)                   │ (<span style=\"color: #00d7ff; text-decoration-color: #00d7ff\">None</span>, <span style=\"color: #00af00; text-decoration-color: #00af00\">256</span>)            │     <span style=\"color: #00af00; text-decoration-color: #00af00\">1,179,904</span> │\n",
       "├─────────────────────────────────┼────────────────────────┼───────────────┤\n",
       "│ dense_1 (<span style=\"color: #0087ff; text-decoration-color: #0087ff\">Dense</span>)                 │ (<span style=\"color: #00d7ff; text-decoration-color: #00d7ff\">None</span>, <span style=\"color: #00af00; text-decoration-color: #00af00\">1</span>)              │           <span style=\"color: #00af00; text-decoration-color: #00af00\">257</span> │\n",
       "└─────────────────────────────────┴────────────────────────┴───────────────┘\n",
       "</pre>\n"
      ],
      "text/plain": [
       "┏━━━━━━━━━━━━━━━━━━━━━━━━━━━━━━━━━┳━━━━━━━━━━━━━━━━━━━━━━━━┳━━━━━━━━━━━━━━━┓\n",
       "┃\u001b[1m \u001b[0m\u001b[1mLayer (type)                   \u001b[0m\u001b[1m \u001b[0m┃\u001b[1m \u001b[0m\u001b[1mOutput Shape          \u001b[0m\u001b[1m \u001b[0m┃\u001b[1m \u001b[0m\u001b[1m      Param #\u001b[0m\u001b[1m \u001b[0m┃\n",
       "┡━━━━━━━━━━━━━━━━━━━━━━━━━━━━━━━━━╇━━━━━━━━━━━━━━━━━━━━━━━━╇━━━━━━━━━━━━━━━┩\n",
       "│ conv2d (\u001b[38;5;33mConv2D\u001b[0m)                 │ (\u001b[38;5;45mNone\u001b[0m, \u001b[38;5;34m128\u001b[0m, \u001b[38;5;34m128\u001b[0m, \u001b[38;5;34m32\u001b[0m)   │           \u001b[38;5;34m320\u001b[0m │\n",
       "├─────────────────────────────────┼────────────────────────┼───────────────┤\n",
       "│ conv2d_1 (\u001b[38;5;33mConv2D\u001b[0m)               │ (\u001b[38;5;45mNone\u001b[0m, \u001b[38;5;34m126\u001b[0m, \u001b[38;5;34m126\u001b[0m, \u001b[38;5;34m32\u001b[0m)   │         \u001b[38;5;34m9,248\u001b[0m │\n",
       "├─────────────────────────────────┼────────────────────────┼───────────────┤\n",
       "│ max_pooling2d (\u001b[38;5;33mMaxPooling2D\u001b[0m)    │ (\u001b[38;5;45mNone\u001b[0m, \u001b[38;5;34m63\u001b[0m, \u001b[38;5;34m63\u001b[0m, \u001b[38;5;34m32\u001b[0m)     │             \u001b[38;5;34m0\u001b[0m │\n",
       "├─────────────────────────────────┼────────────────────────┼───────────────┤\n",
       "│ conv2d_2 (\u001b[38;5;33mConv2D\u001b[0m)               │ (\u001b[38;5;45mNone\u001b[0m, \u001b[38;5;34m63\u001b[0m, \u001b[38;5;34m63\u001b[0m, \u001b[38;5;34m64\u001b[0m)     │        \u001b[38;5;34m18,496\u001b[0m │\n",
       "├─────────────────────────────────┼────────────────────────┼───────────────┤\n",
       "│ max_pooling2d_1 (\u001b[38;5;33mMaxPooling2D\u001b[0m)  │ (\u001b[38;5;45mNone\u001b[0m, \u001b[38;5;34m31\u001b[0m, \u001b[38;5;34m31\u001b[0m, \u001b[38;5;34m64\u001b[0m)     │             \u001b[38;5;34m0\u001b[0m │\n",
       "├─────────────────────────────────┼────────────────────────┼───────────────┤\n",
       "│ conv2d_3 (\u001b[38;5;33mConv2D\u001b[0m)               │ (\u001b[38;5;45mNone\u001b[0m, \u001b[38;5;34m31\u001b[0m, \u001b[38;5;34m31\u001b[0m, \u001b[38;5;34m128\u001b[0m)    │        \u001b[38;5;34m73,856\u001b[0m │\n",
       "├─────────────────────────────────┼────────────────────────┼───────────────┤\n",
       "│ max_pooling2d_2 (\u001b[38;5;33mMaxPooling2D\u001b[0m)  │ (\u001b[38;5;45mNone\u001b[0m, \u001b[38;5;34m15\u001b[0m, \u001b[38;5;34m15\u001b[0m, \u001b[38;5;34m128\u001b[0m)    │             \u001b[38;5;34m0\u001b[0m │\n",
       "├─────────────────────────────────┼────────────────────────┼───────────────┤\n",
       "│ conv2d_4 (\u001b[38;5;33mConv2D\u001b[0m)               │ (\u001b[38;5;45mNone\u001b[0m, \u001b[38;5;34m15\u001b[0m, \u001b[38;5;34m15\u001b[0m, \u001b[38;5;34m256\u001b[0m)    │       \u001b[38;5;34m295,168\u001b[0m │\n",
       "├─────────────────────────────────┼────────────────────────┼───────────────┤\n",
       "│ max_pooling2d_3 (\u001b[38;5;33mMaxPooling2D\u001b[0m)  │ (\u001b[38;5;45mNone\u001b[0m, \u001b[38;5;34m7\u001b[0m, \u001b[38;5;34m7\u001b[0m, \u001b[38;5;34m256\u001b[0m)      │             \u001b[38;5;34m0\u001b[0m │\n",
       "├─────────────────────────────────┼────────────────────────┼───────────────┤\n",
       "│ conv2d_5 (\u001b[38;5;33mConv2D\u001b[0m)               │ (\u001b[38;5;45mNone\u001b[0m, \u001b[38;5;34m7\u001b[0m, \u001b[38;5;34m7\u001b[0m, \u001b[38;5;34m512\u001b[0m)      │     \u001b[38;5;34m1,180,160\u001b[0m │\n",
       "├─────────────────────────────────┼────────────────────────┼───────────────┤\n",
       "│ max_pooling2d_4 (\u001b[38;5;33mMaxPooling2D\u001b[0m)  │ (\u001b[38;5;45mNone\u001b[0m, \u001b[38;5;34m3\u001b[0m, \u001b[38;5;34m3\u001b[0m, \u001b[38;5;34m512\u001b[0m)      │             \u001b[38;5;34m0\u001b[0m │\n",
       "├─────────────────────────────────┼────────────────────────┼───────────────┤\n",
       "│ dropout (\u001b[38;5;33mDropout\u001b[0m)               │ (\u001b[38;5;45mNone\u001b[0m, \u001b[38;5;34m3\u001b[0m, \u001b[38;5;34m3\u001b[0m, \u001b[38;5;34m512\u001b[0m)      │             \u001b[38;5;34m0\u001b[0m │\n",
       "├─────────────────────────────────┼────────────────────────┼───────────────┤\n",
       "│ flatten (\u001b[38;5;33mFlatten\u001b[0m)               │ (\u001b[38;5;45mNone\u001b[0m, \u001b[38;5;34m4608\u001b[0m)           │             \u001b[38;5;34m0\u001b[0m │\n",
       "├─────────────────────────────────┼────────────────────────┼───────────────┤\n",
       "│ dense (\u001b[38;5;33mDense\u001b[0m)                   │ (\u001b[38;5;45mNone\u001b[0m, \u001b[38;5;34m256\u001b[0m)            │     \u001b[38;5;34m1,179,904\u001b[0m │\n",
       "├─────────────────────────────────┼────────────────────────┼───────────────┤\n",
       "│ dense_1 (\u001b[38;5;33mDense\u001b[0m)                 │ (\u001b[38;5;45mNone\u001b[0m, \u001b[38;5;34m1\u001b[0m)              │           \u001b[38;5;34m257\u001b[0m │\n",
       "└─────────────────────────────────┴────────────────────────┴───────────────┘\n"
      ]
     },
     "metadata": {},
     "output_type": "display_data"
    },
    {
     "data": {
      "text/html": [
       "<pre style=\"white-space:pre;overflow-x:auto;line-height:normal;font-family:Menlo,'DejaVu Sans Mono',consolas,'Courier New',monospace\"><span style=\"font-weight: bold\"> Total params: </span><span style=\"color: #00af00; text-decoration-color: #00af00\">2,757,409</span> (10.52 MB)\n",
       "</pre>\n"
      ],
      "text/plain": [
       "\u001b[1m Total params: \u001b[0m\u001b[38;5;34m2,757,409\u001b[0m (10.52 MB)\n"
      ]
     },
     "metadata": {},
     "output_type": "display_data"
    },
    {
     "data": {
      "text/html": [
       "<pre style=\"white-space:pre;overflow-x:auto;line-height:normal;font-family:Menlo,'DejaVu Sans Mono',consolas,'Courier New',monospace\"><span style=\"font-weight: bold\"> Trainable params: </span><span style=\"color: #00af00; text-decoration-color: #00af00\">2,757,409</span> (10.52 MB)\n",
       "</pre>\n"
      ],
      "text/plain": [
       "\u001b[1m Trainable params: \u001b[0m\u001b[38;5;34m2,757,409\u001b[0m (10.52 MB)\n"
      ]
     },
     "metadata": {},
     "output_type": "display_data"
    },
    {
     "data": {
      "text/html": [
       "<pre style=\"white-space:pre;overflow-x:auto;line-height:normal;font-family:Menlo,'DejaVu Sans Mono',consolas,'Courier New',monospace\"><span style=\"font-weight: bold\"> Non-trainable params: </span><span style=\"color: #00af00; text-decoration-color: #00af00\">0</span> (0.00 B)\n",
       "</pre>\n"
      ],
      "text/plain": [
       "\u001b[1m Non-trainable params: \u001b[0m\u001b[38;5;34m0\u001b[0m (0.00 B)\n"
      ]
     },
     "metadata": {},
     "output_type": "display_data"
    }
   ],
   "source": [
    "cnn.summary()"
   ]
  },
  {
   "cell_type": "code",
   "execution_count": 7,
   "id": "5495792e",
   "metadata": {
    "execution": {
     "iopub.execute_input": "2024-07-21T02:48:45.539204Z",
     "iopub.status.busy": "2024-07-21T02:48:45.538777Z",
     "iopub.status.idle": "2024-07-21T03:25:55.552460Z",
     "shell.execute_reply": "2024-07-21T03:25:55.551041Z"
    },
    "papermill": {
     "duration": 2230.02948,
     "end_time": "2024-07-21T03:25:55.557228",
     "exception": false,
     "start_time": "2024-07-21T02:48:45.527748",
     "status": "completed"
    },
    "tags": []
   },
   "outputs": [
    {
     "name": "stdout",
     "output_type": "stream",
     "text": [
      "Epoch 1/10\n",
      "\u001b[1m163/163\u001b[0m \u001b[32m━━━━━━━━━━━━━━━━━━━━\u001b[0m\u001b[37m\u001b[0m \u001b[1m226s\u001b[0m 1s/step - accuracy: 0.7871 - loss: 0.6890 - precision: 0.8435 - recall: 0.8760 - val_accuracy: 0.7500 - val_loss: 0.5716 - val_precision: 0.6667 - val_recall: 1.0000\n",
      "Epoch 2/10\n",
      "\u001b[1m163/163\u001b[0m \u001b[32m━━━━━━━━━━━━━━━━━━━━\u001b[0m\u001b[37m\u001b[0m \u001b[1m257s\u001b[0m 1s/step - accuracy: 0.9399 - loss: 0.1517 - precision: 0.9553 - recall: 0.9642 - val_accuracy: 1.0000 - val_loss: 0.1430 - val_precision: 1.0000 - val_recall: 1.0000\n",
      "Epoch 3/10\n",
      "\u001b[1m163/163\u001b[0m \u001b[32m━━━━━━━━━━━━━━━━━━━━\u001b[0m\u001b[37m\u001b[0m \u001b[1m218s\u001b[0m 1s/step - accuracy: 0.9590 - loss: 0.1104 - precision: 0.9704 - recall: 0.9749 - val_accuracy: 0.6250 - val_loss: 0.8675 - val_precision: 0.5714 - val_recall: 1.0000\n",
      "Epoch 4/10\n",
      "\u001b[1m163/163\u001b[0m \u001b[32m━━━━━━━━━━━━━━━━━━━━\u001b[0m\u001b[37m\u001b[0m \u001b[1m220s\u001b[0m 1s/step - accuracy: 0.9702 - loss: 0.0787 - precision: 0.9781 - recall: 0.9818 - val_accuracy: 0.6250 - val_loss: 0.6707 - val_precision: 0.5714 - val_recall: 1.0000\n",
      "Epoch 5/10\n",
      "\u001b[1m163/163\u001b[0m \u001b[32m━━━━━━━━━━━━━━━━━━━━\u001b[0m\u001b[37m\u001b[0m \u001b[1m218s\u001b[0m 1s/step - accuracy: 0.9794 - loss: 0.0565 - precision: 0.9873 - recall: 0.9850 - val_accuracy: 0.8125 - val_loss: 0.2310 - val_precision: 0.7273 - val_recall: 1.0000\n",
      "Epoch 6/10\n",
      "\u001b[1m163/163\u001b[0m \u001b[32m━━━━━━━━━━━━━━━━━━━━\u001b[0m\u001b[37m\u001b[0m \u001b[1m217s\u001b[0m 1s/step - accuracy: 0.9784 - loss: 0.0579 - precision: 0.9857 - recall: 0.9854 - val_accuracy: 1.0000 - val_loss: 0.0346 - val_precision: 1.0000 - val_recall: 1.0000\n",
      "Epoch 7/10\n",
      "\u001b[1m163/163\u001b[0m \u001b[32m━━━━━━━━━━━━━━━━━━━━\u001b[0m\u001b[37m\u001b[0m \u001b[1m218s\u001b[0m 1s/step - accuracy: 0.9773 - loss: 0.0537 - precision: 0.9873 - recall: 0.9823 - val_accuracy: 1.0000 - val_loss: 0.0976 - val_precision: 1.0000 - val_recall: 1.0000\n",
      "Epoch 8/10\n",
      "\u001b[1m163/163\u001b[0m \u001b[32m━━━━━━━━━━━━━━━━━━━━\u001b[0m\u001b[37m\u001b[0m \u001b[1m219s\u001b[0m 1s/step - accuracy: 0.9873 - loss: 0.0340 - precision: 0.9906 - recall: 0.9924 - val_accuracy: 0.8125 - val_loss: 0.3514 - val_precision: 0.7273 - val_recall: 1.0000\n",
      "Epoch 9/10\n",
      "\u001b[1m163/163\u001b[0m \u001b[32m━━━━━━━━━━━━━━━━━━━━\u001b[0m\u001b[37m\u001b[0m \u001b[1m219s\u001b[0m 1s/step - accuracy: 0.9929 - loss: 0.0253 - precision: 0.9952 - recall: 0.9952 - val_accuracy: 1.0000 - val_loss: 0.0354 - val_precision: 1.0000 - val_recall: 1.0000\n",
      "Epoch 10/10\n",
      "\u001b[1m163/163\u001b[0m \u001b[32m━━━━━━━━━━━━━━━━━━━━\u001b[0m\u001b[37m\u001b[0m \u001b[1m218s\u001b[0m 1s/step - accuracy: 0.9916 - loss: 0.0229 - precision: 0.9949 - recall: 0.9938 - val_accuracy: 0.9375 - val_loss: 0.1335 - val_precision: 0.8889 - val_recall: 1.0000\n"
     ]
    }
   ],
   "source": [
    "training_history = cnn.fit(training_set, epochs=10, validation_data=validation_set)"
   ]
  },
  {
   "cell_type": "markdown",
   "id": "9a487809",
   "metadata": {
    "papermill": {
     "duration": 0.170441,
     "end_time": "2024-07-21T03:25:55.898328",
     "exception": false,
     "start_time": "2024-07-21T03:25:55.727887",
     "status": "completed"
    },
    "tags": []
   },
   "source": [
    "# **Evaluating Model**"
   ]
  },
  {
   "cell_type": "code",
   "execution_count": 8,
   "id": "ddf8713d",
   "metadata": {
    "execution": {
     "iopub.execute_input": "2024-07-21T03:25:56.237991Z",
     "iopub.status.busy": "2024-07-21T03:25:56.236649Z",
     "iopub.status.idle": "2024-07-21T03:27:04.386426Z",
     "shell.execute_reply": "2024-07-21T03:27:04.384917Z"
    },
    "papermill": {
     "duration": 68.322874,
     "end_time": "2024-07-21T03:27:04.389373",
     "exception": false,
     "start_time": "2024-07-21T03:25:56.066499",
     "status": "completed"
    },
    "tags": []
   },
   "outputs": [
    {
     "name": "stdout",
     "output_type": "stream",
     "text": [
      "\u001b[1m163/163\u001b[0m \u001b[32m━━━━━━━━━━━━━━━━━━━━\u001b[0m\u001b[37m\u001b[0m \u001b[1m68s\u001b[0m 417ms/step - accuracy: 0.9992 - loss: 0.0066 - precision: 0.9993 - recall: 0.9996\n",
      "Training loss: 0.0063321092166006565\n",
      "Training accuracy: 0.9990414381027222\n",
      "Training precision: 0.9992260336875916\n",
      "Training recall: 0.9994838833808899\n"
     ]
    }
   ],
   "source": [
    "# Evaluate the model on the training set\n",
    "train_loss, train_acc, train_precision, train_recall = cnn.evaluate(training_set)\n",
    "print('Training loss:', train_loss)\n",
    "print('Training accuracy:', train_acc)\n",
    "print('Training precision:', train_precision)\n",
    "print('Training recall:', train_recall)"
   ]
  },
  {
   "cell_type": "code",
   "execution_count": 9,
   "id": "1509328c",
   "metadata": {
    "execution": {
     "iopub.execute_input": "2024-07-21T03:27:04.762710Z",
     "iopub.status.busy": "2024-07-21T03:27:04.762277Z",
     "iopub.status.idle": "2024-07-21T03:27:05.087037Z",
     "shell.execute_reply": "2024-07-21T03:27:05.085401Z"
    },
    "papermill": {
     "duration": 0.515222,
     "end_time": "2024-07-21T03:27:05.089796",
     "exception": false,
     "start_time": "2024-07-21T03:27:04.574574",
     "status": "completed"
    },
    "tags": []
   },
   "outputs": [
    {
     "name": "stdout",
     "output_type": "stream",
     "text": [
      "\u001b[1m1/1\u001b[0m \u001b[32m━━━━━━━━━━━━━━━━━━━━\u001b[0m\u001b[37m\u001b[0m \u001b[1m0s\u001b[0m 211ms/step - accuracy: 0.9375 - loss: 0.1335 - precision: 0.8889 - recall: 1.0000\n",
      "Validation Loss: 0.13350720703601837\n",
      "Validation Accuracy: 0.9375\n",
      "Validation Precision: 0.8888888955116272\n",
      "Validation Recall: 1.0\n"
     ]
    }
   ],
   "source": [
    "# Explicit unpacking assuming the model was compiled with loss, accuracy, precision, and recall\n",
    "val_loss, val_acc, val_precision, val_recall = cnn.evaluate(validation_set, verbose=1)\n",
    "print('Validation Loss:', val_loss)\n",
    "print('Validation Accuracy:', val_acc)\n",
    "print('Validation Precision:', val_precision)\n",
    "print('Validation Recall:', val_recall)"
   ]
  },
  {
   "cell_type": "markdown",
   "id": "b393f94f",
   "metadata": {
    "papermill": {
     "duration": 0.19782,
     "end_time": "2024-07-21T03:27:05.484491",
     "exception": false,
     "start_time": "2024-07-21T03:27:05.286671",
     "status": "completed"
    },
    "tags": []
   },
   "source": [
    "# **Saving Model**"
   ]
  },
  {
   "cell_type": "code",
   "execution_count": 10,
   "id": "d0342824",
   "metadata": {
    "execution": {
     "iopub.execute_input": "2024-07-21T03:27:05.884031Z",
     "iopub.status.busy": "2024-07-21T03:27:05.883002Z",
     "iopub.status.idle": "2024-07-21T03:27:06.127875Z",
     "shell.execute_reply": "2024-07-21T03:27:06.126655Z"
    },
    "papermill": {
     "duration": 0.441104,
     "end_time": "2024-07-21T03:27:06.131148",
     "exception": false,
     "start_time": "2024-07-21T03:27:05.690044",
     "status": "completed"
    },
    "tags": []
   },
   "outputs": [],
   "source": [
    "cnn.save('pneumonia_x-ray_model.keras')"
   ]
  },
  {
   "cell_type": "code",
   "execution_count": 11,
   "id": "ca8f473c",
   "metadata": {
    "execution": {
     "iopub.execute_input": "2024-07-21T03:27:06.512798Z",
     "iopub.status.busy": "2024-07-21T03:27:06.512337Z",
     "iopub.status.idle": "2024-07-21T03:27:06.522003Z",
     "shell.execute_reply": "2024-07-21T03:27:06.520767Z"
    },
    "papermill": {
     "duration": 0.200612,
     "end_time": "2024-07-21T03:27:06.524459",
     "exception": false,
     "start_time": "2024-07-21T03:27:06.323847",
     "status": "completed"
    },
    "tags": []
   },
   "outputs": [
    {
     "data": {
      "text/plain": [
       "{'accuracy': [0.8569785356521606,\n",
       "  0.9470859169960022,\n",
       "  0.9622315764427185,\n",
       "  0.9702837467193604,\n",
       "  0.9800613522529602,\n",
       "  0.9821702241897583,\n",
       "  0.9812116622924805,\n",
       "  0.9890720844268799,\n",
       "  0.9900306463241577,\n",
       "  0.9913727045059204],\n",
       " 'loss': [0.38266244530677795,\n",
       "  0.13687124848365784,\n",
       "  0.10138585418462753,\n",
       "  0.07612153142690659,\n",
       "  0.056256528943777084,\n",
       "  0.05094493553042412,\n",
       "  0.04795052856206894,\n",
       "  0.03155870363116264,\n",
       "  0.028698427602648735,\n",
       "  0.022510163486003876],\n",
       " 'precision': [0.8912228345870972,\n",
       "  0.9631917476654053,\n",
       "  0.9742135405540466,\n",
       "  0.9796286821365356,\n",
       "  0.9878395795822144,\n",
       "  0.9881259799003601,\n",
       "  0.9886158108711243,\n",
       "  0.9927723407745361,\n",
       "  0.9932903051376343,\n",
       "  0.9943211078643799],\n",
       " 'recall': [0.9197419285774231,\n",
       "  0.9656774401664734,\n",
       "  0.9749677181243896,\n",
       "  0.9803870916366577,\n",
       "  0.9852903485298157,\n",
       "  0.987870991230011,\n",
       "  0.9860644936561584,\n",
       "  0.9925161004066467,\n",
       "  0.9932903051376343,\n",
       "  0.9940645098686218],\n",
       " 'val_accuracy': [0.75,\n",
       "  1.0,\n",
       "  0.625,\n",
       "  0.625,\n",
       "  0.8125,\n",
       "  1.0,\n",
       "  1.0,\n",
       "  0.8125,\n",
       "  1.0,\n",
       "  0.9375],\n",
       " 'val_loss': [0.571578860282898,\n",
       "  0.14301353693008423,\n",
       "  0.8674987554550171,\n",
       "  0.6706644296646118,\n",
       "  0.23095950484275818,\n",
       "  0.034556739032268524,\n",
       "  0.09755171835422516,\n",
       "  0.3514457941055298,\n",
       "  0.035407740622758865,\n",
       "  0.13350720703601837],\n",
       " 'val_precision': [0.6666666865348816,\n",
       "  1.0,\n",
       "  0.5714285969734192,\n",
       "  0.5714285969734192,\n",
       "  0.7272727489471436,\n",
       "  1.0,\n",
       "  1.0,\n",
       "  0.7272727489471436,\n",
       "  1.0,\n",
       "  0.8888888955116272],\n",
       " 'val_recall': [1.0, 1.0, 1.0, 1.0, 1.0, 1.0, 1.0, 1.0, 1.0, 1.0]}"
      ]
     },
     "execution_count": 11,
     "metadata": {},
     "output_type": "execute_result"
    }
   ],
   "source": [
    "# Dcitionary of Training History\n",
    "training_history.history"
   ]
  },
  {
   "cell_type": "code",
   "execution_count": 12,
   "id": "f1730071",
   "metadata": {
    "execution": {
     "iopub.execute_input": "2024-07-21T03:27:06.899041Z",
     "iopub.status.busy": "2024-07-21T03:27:06.897802Z",
     "iopub.status.idle": "2024-07-21T03:27:06.905102Z",
     "shell.execute_reply": "2024-07-21T03:27:06.904011Z"
    },
    "papermill": {
     "duration": 0.197379,
     "end_time": "2024-07-21T03:27:06.907884",
     "exception": false,
     "start_time": "2024-07-21T03:27:06.710505",
     "status": "completed"
    },
    "tags": []
   },
   "outputs": [],
   "source": [
    "import json\n",
    "with open('training_hist.json','w') as training_file:\n",
    "  json.dump(training_history.history,training_file)"
   ]
  },
  {
   "cell_type": "code",
   "execution_count": 13,
   "id": "6773c267",
   "metadata": {
    "execution": {
     "iopub.execute_input": "2024-07-21T03:27:07.285487Z",
     "iopub.status.busy": "2024-07-21T03:27:07.285088Z",
     "iopub.status.idle": "2024-07-21T03:27:07.291316Z",
     "shell.execute_reply": "2024-07-21T03:27:07.290055Z"
    },
    "papermill": {
     "duration": 0.197748,
     "end_time": "2024-07-21T03:27:07.294078",
     "exception": false,
     "start_time": "2024-07-21T03:27:07.096330",
     "status": "completed"
    },
    "tags": []
   },
   "outputs": [
    {
     "name": "stdout",
     "output_type": "stream",
     "text": [
      "dict_keys(['accuracy', 'loss', 'precision', 'recall', 'val_accuracy', 'val_loss', 'val_precision', 'val_recall'])\n"
     ]
    }
   ],
   "source": [
    "print(training_history.history.keys())"
   ]
  },
  {
   "cell_type": "code",
   "execution_count": 14,
   "id": "a1ddd86c",
   "metadata": {
    "execution": {
     "iopub.execute_input": "2024-07-21T03:27:07.667537Z",
     "iopub.status.busy": "2024-07-21T03:27:07.667098Z",
     "iopub.status.idle": "2024-07-21T03:27:08.418650Z",
     "shell.execute_reply": "2024-07-21T03:27:08.417056Z"
    },
    "papermill": {
     "duration": 0.942169,
     "end_time": "2024-07-21T03:27:08.421519",
     "exception": false,
     "start_time": "2024-07-21T03:27:07.479350",
     "status": "completed"
    },
    "tags": []
   },
   "outputs": [
    {
     "data": {
      "image/png": "[encoded data removed]",
      "text/plain": [
       "<Figure size 1200x500 with 2 Axes>"
      ]
     },
     "metadata": {},
     "output_type": "display_data"
    }
   ],
   "source": [
    "# Assuming `training_history` is the output of your model's fit method\n",
    "epochs = [i for i in range(1, 11)]\n",
    "\n",
    "# Plotting training and validation accuracy\n",
    "plt.figure(figsize=(12, 5))\n",
    "plt.subplot(1, 2, 1)  # 1 row, 2 columns, 1st subplot\n",
    "plt.plot(epochs, training_history.history['accuracy'], color='red', label='Training Accuracy')\n",
    "plt.plot(epochs, training_history.history['val_accuracy'], color='blue', label='Validation Accuracy')\n",
    "plt.title('Training and Validation Accuracy')\n",
    "plt.xlabel('Epochs')\n",
    "plt.ylabel('Accuracy')\n",
    "plt.legend()\n",
    "\n",
    "# Plotting training and validation loss\n",
    "plt.subplot(1, 2, 2)  # 1 row, 2 columns, 2nd subplot\n",
    "plt.plot(epochs, training_history.history['loss'], color='red', label='Training Loss')\n",
    "plt.plot(epochs, training_history.history['val_loss'], color='blue', label='Validation Loss')\n",
    "plt.title('Training and Validation Loss')\n",
    "plt.xlabel('Epochs')\n",
    "plt.ylabel('Loss')\n",
    "plt.legend()\n",
    "\n",
    "plt.tight_layout()\n",
    "plt.show()"
   ]
  }
 ],
 "metadata": {
  "kaggle": {
   "accelerator": "none",
   "dataSources": [
    {
     "datasetId": 17810,
     "sourceId": 23812,
     "sourceType": "datasetVersion"
    },
    {
     "isSourceIdPinned": true,
     "modelId": 90565,
     "modelInstanceId": 65791,
     "sourceId": 78275,
     "sourceType": "modelInstanceVersion"
    }
   ],
   "dockerImageVersionId": 30746,
   "isGpuEnabled": false,
   "isInternetEnabled": false,
   "language": "python",
   "sourceType": "notebook"
  },
  "kernelspec": {
   "display_name": "Python 3",
   "language": "python",
   "name": "python3"
  },
  "language_info": {
   "codemirror_mode": {
    "name": "ipython",
    "version": 3
   },
   "file_extension": ".py",
   "mimetype": "text/x-python",
   "name": "python",
   "nbconvert_exporter": "python",
   "pygments_lexer": "ipython3",
   "version": "3.10.13"
  },
  "papermill": {
   "default_parameters": {},
   "duration": 2340.802235,
   "end_time": "2024-07-21T03:27:11.232828",
   "environment_variables": {},
   "exception": null,
   "input_path": "__notebook__.ipynb",
   "output_path": "__notebook__.ipynb",
   "parameters": {},
   "start_time": "2024-07-21T02:48:10.430593",
   "version": "2.5.0"
  }
 },
 "nbformat": 4,
 "nbformat_minor": 5
}
